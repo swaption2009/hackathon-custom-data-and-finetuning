{
 "cells": [
  {
   "cell_type": "code",
   "execution_count": 1,
   "id": "ca0986ca",
   "metadata": {},
   "outputs": [],
   "source": [
    "import pandas as pd"
   ]
  },
  {
   "cell_type": "code",
   "execution_count": 3,
   "id": "73db1897",
   "metadata": {},
   "outputs": [],
   "source": [
    "custom_dataset = pd.read_csv(\"GPT-Custom-Data.tsv\", sep='\\t')"
   ]
  },
  {
   "cell_type": "code",
   "execution_count": 4,
   "id": "c767ef1f",
   "metadata": {},
   "outputs": [
    {
     "data": {
      "text/html": [
       "<div>\n",
       "<style scoped>\n",
       "    .dataframe tbody tr th:only-of-type {\n",
       "        vertical-align: middle;\n",
       "    }\n",
       "\n",
       "    .dataframe tbody tr th {\n",
       "        vertical-align: top;\n",
       "    }\n",
       "\n",
       "    .dataframe thead th {\n",
       "        text-align: right;\n",
       "    }\n",
       "</style>\n",
       "<table border=\"1\" class=\"dataframe\">\n",
       "  <thead>\n",
       "    <tr style=\"text-align: right;\">\n",
       "      <th></th>\n",
       "      <th>id</th>\n",
       "      <th>text</th>\n",
       "      <th>entities</th>\n",
       "      <th>relations</th>\n",
       "      <th>diagnosis</th>\n",
       "      <th>solutions</th>\n",
       "    </tr>\n",
       "  </thead>\n",
       "  <tbody>\n",
       "    <tr>\n",
       "      <th>0</th>\n",
       "      <td>249</td>\n",
       "      <td>A cybersquatting domain save-russia[.]today is...</td>\n",
       "      <td>[{'end_offset': 16, 'id': 44656, 'label': 'att...</td>\n",
       "      <td>[{'from_id': 44658, 'id': 9, 'to_id': 44659, '...</td>\n",
       "      <td>The diagnosis is a cyber attack that involves ...</td>\n",
       "      <td>1. Implementing DNS filtering to block access ...</td>\n",
       "    </tr>\n",
       "    <tr>\n",
       "      <th>1</th>\n",
       "      <td>14309</td>\n",
       "      <td>Like the Android Maikspy, it first sends a not...</td>\n",
       "      <td>[{'end_offset': 17, 'id': 48530, 'label': 'SOF...</td>\n",
       "      <td>[{'from_id': 48531, 'id': 445, 'to_id': 48532,...</td>\n",
       "      <td>The diagnosis is that the entity identified as...</td>\n",
       "      <td>1. Implementing a robust anti-malware software...</td>\n",
       "    </tr>\n",
       "    <tr>\n",
       "      <th>2</th>\n",
       "      <td>13996</td>\n",
       "      <td>While analyzing the technical details of this ...</td>\n",
       "      <td>[{'end_offset': 194, 'id': 48781, 'label': 'th...</td>\n",
       "      <td>[{'from_id': 48781, 'id': 461, 'to_id': 48782,...</td>\n",
       "      <td>Diagnosis: APT37/Reaper/Group 123 is responsib...</td>\n",
       "      <td>1. Implementing advanced threat detection tech...</td>\n",
       "    </tr>\n",
       "    <tr>\n",
       "      <th>3</th>\n",
       "      <td>13600</td>\n",
       "      <td>(Note that Flash has been declared end-of-life...</td>\n",
       "      <td>[{'end_offset': 79, 'id': 51687, 'label': 'TIM...</td>\n",
       "      <td>[{'from_id': 51688, 'id': 1133, 'to_id': 51689...</td>\n",
       "      <td>The diagnosis is a malware infection. The enti...</td>\n",
       "      <td>1. Implementing a robust antivirus software th...</td>\n",
       "    </tr>\n",
       "    <tr>\n",
       "      <th>4</th>\n",
       "      <td>14364</td>\n",
       "      <td>Figure 21. Connection of Maikspy variants to 1...</td>\n",
       "      <td>[{'end_offset': 191, 'id': 51779, 'label': 'UR...</td>\n",
       "      <td>[{'from_id': 51780, 'id': 1161, 'to_id': 44372...</td>\n",
       "      <td>The diagnosis is that Maikspy malware variants...</td>\n",
       "      <td>1. Implementing a robust firewall system that ...</td>\n",
       "    </tr>\n",
       "  </tbody>\n",
       "</table>\n",
       "</div>"
      ],
      "text/plain": [
       "      id                                               text  \\\n",
       "0    249  A cybersquatting domain save-russia[.]today is...   \n",
       "1  14309  Like the Android Maikspy, it first sends a not...   \n",
       "2  13996  While analyzing the technical details of this ...   \n",
       "3  13600  (Note that Flash has been declared end-of-life...   \n",
       "4  14364  Figure 21. Connection of Maikspy variants to 1...   \n",
       "\n",
       "                                            entities  \\\n",
       "0  [{'end_offset': 16, 'id': 44656, 'label': 'att...   \n",
       "1  [{'end_offset': 17, 'id': 48530, 'label': 'SOF...   \n",
       "2  [{'end_offset': 194, 'id': 48781, 'label': 'th...   \n",
       "3  [{'end_offset': 79, 'id': 51687, 'label': 'TIM...   \n",
       "4  [{'end_offset': 191, 'id': 51779, 'label': 'UR...   \n",
       "\n",
       "                                           relations  \\\n",
       "0  [{'from_id': 44658, 'id': 9, 'to_id': 44659, '...   \n",
       "1  [{'from_id': 48531, 'id': 445, 'to_id': 48532,...   \n",
       "2  [{'from_id': 48781, 'id': 461, 'to_id': 48782,...   \n",
       "3  [{'from_id': 51688, 'id': 1133, 'to_id': 51689...   \n",
       "4  [{'from_id': 51780, 'id': 1161, 'to_id': 44372...   \n",
       "\n",
       "                                           diagnosis  \\\n",
       "0  The diagnosis is a cyber attack that involves ...   \n",
       "1  The diagnosis is that the entity identified as...   \n",
       "2  Diagnosis: APT37/Reaper/Group 123 is responsib...   \n",
       "3  The diagnosis is a malware infection. The enti...   \n",
       "4  The diagnosis is that Maikspy malware variants...   \n",
       "\n",
       "                                           solutions  \n",
       "0  1. Implementing DNS filtering to block access ...  \n",
       "1  1. Implementing a robust anti-malware software...  \n",
       "2  1. Implementing advanced threat detection tech...  \n",
       "3  1. Implementing a robust antivirus software th...  \n",
       "4  1. Implementing a robust firewall system that ...  "
      ]
     },
     "execution_count": 4,
     "metadata": {},
     "output_type": "execute_result"
    }
   ],
   "source": [
    "custom_dataset.head()"
   ]
  },
  {
   "cell_type": "code",
   "execution_count": null,
   "id": "9d9de143",
   "metadata": {},
   "outputs": [],
   "source": []
  }
 ],
 "metadata": {
  "kernelspec": {
   "display_name": "Python [conda env:py39] *",
   "language": "python",
   "name": "conda-env-py39-py"
  },
  "language_info": {
   "codemirror_mode": {
    "name": "ipython",
    "version": 3
   },
   "file_extension": ".py",
   "mimetype": "text/x-python",
   "name": "python",
   "nbconvert_exporter": "python",
   "pygments_lexer": "ipython3",
   "version": "3.9.12"
  }
 },
 "nbformat": 4,
 "nbformat_minor": 5
}
