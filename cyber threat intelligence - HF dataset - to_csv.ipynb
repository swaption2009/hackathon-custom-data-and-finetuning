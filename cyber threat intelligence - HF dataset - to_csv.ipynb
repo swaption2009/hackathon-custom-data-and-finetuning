{
 "cells": [
  {
   "cell_type": "code",
   "execution_count": 1,
   "id": "23650e6e",
   "metadata": {},
   "outputs": [
    {
     "name": "stdout",
     "output_type": "stream",
     "text": [
      "Requirement already satisfied: datasets in /usr/local/anaconda3/envs/py39/lib/python3.9/site-packages (2.12.0)\n",
      "Requirement already satisfied: fsspec[http]>=2021.11.1 in /usr/local/anaconda3/envs/py39/lib/python3.9/site-packages (from datasets) (2023.5.0)\n",
      "Requirement already satisfied: dill<0.3.7,>=0.3.0 in /usr/local/anaconda3/envs/py39/lib/python3.9/site-packages (from datasets) (0.3.6)\n",
      "Requirement already satisfied: responses<0.19 in /usr/local/anaconda3/envs/py39/lib/python3.9/site-packages (from datasets) (0.18.0)\n",
      "Requirement already satisfied: pyarrow>=8.0.0 in /usr/local/anaconda3/envs/py39/lib/python3.9/site-packages (from datasets) (12.0.0)\n",
      "Requirement already satisfied: huggingface-hub<1.0.0,>=0.11.0 in /usr/local/anaconda3/envs/py39/lib/python3.9/site-packages (from datasets) (0.13.3)\n",
      "Requirement already satisfied: pyyaml>=5.1 in /Users/rhoesada/.local/lib/python3.9/site-packages (from datasets) (5.4.1)\n",
      "Requirement already satisfied: pandas in /usr/local/anaconda3/envs/py39/lib/python3.9/site-packages (from datasets) (1.4.3)\n",
      "Requirement already satisfied: tqdm>=4.62.1 in /usr/local/anaconda3/envs/py39/lib/python3.9/site-packages (from datasets) (4.64.0)\n",
      "Requirement already satisfied: packaging in /usr/local/anaconda3/envs/py39/lib/python3.9/site-packages (from datasets) (22.0)\n",
      "Requirement already satisfied: multiprocess in /usr/local/anaconda3/envs/py39/lib/python3.9/site-packages (from datasets) (0.70.14)\n",
      "Requirement already satisfied: aiohttp in /usr/local/anaconda3/envs/py39/lib/python3.9/site-packages (from datasets) (3.8.4)\n",
      "Requirement already satisfied: numpy>=1.17 in /usr/local/anaconda3/envs/py39/lib/python3.9/site-packages (from datasets) (1.22.3)\n",
      "Requirement already satisfied: xxhash in /usr/local/anaconda3/envs/py39/lib/python3.9/site-packages (from datasets) (3.2.0)\n",
      "Requirement already satisfied: requests>=2.19.0 in /Users/rhoesada/.local/lib/python3.9/site-packages (from datasets) (2.26.0)\n",
      "Requirement already satisfied: multidict<7.0,>=4.5 in /usr/local/anaconda3/envs/py39/lib/python3.9/site-packages (from aiohttp->datasets) (6.0.4)\n",
      "Requirement already satisfied: async-timeout<5.0,>=4.0.0a3 in /usr/local/anaconda3/envs/py39/lib/python3.9/site-packages (from aiohttp->datasets) (4.0.2)\n",
      "Requirement already satisfied: yarl<2.0,>=1.0 in /usr/local/anaconda3/envs/py39/lib/python3.9/site-packages (from aiohttp->datasets) (1.9.2)\n",
      "Requirement already satisfied: aiosignal>=1.1.2 in /usr/local/anaconda3/envs/py39/lib/python3.9/site-packages (from aiohttp->datasets) (1.3.1)\n",
      "Requirement already satisfied: charset-normalizer<4.0,>=2.0 in /usr/local/anaconda3/envs/py39/lib/python3.9/site-packages (from aiohttp->datasets) (2.0.4)\n",
      "Requirement already satisfied: frozenlist>=1.1.1 in /usr/local/anaconda3/envs/py39/lib/python3.9/site-packages (from aiohttp->datasets) (1.3.3)\n",
      "Requirement already satisfied: attrs>=17.3.0 in /usr/local/anaconda3/envs/py39/lib/python3.9/site-packages (from aiohttp->datasets) (22.1.0)\n",
      "Requirement already satisfied: typing-extensions>=3.7.4.3 in /usr/local/anaconda3/envs/py39/lib/python3.9/site-packages (from huggingface-hub<1.0.0,>=0.11.0->datasets) (4.4.0)\n",
      "Requirement already satisfied: filelock in /usr/local/anaconda3/envs/py39/lib/python3.9/site-packages (from huggingface-hub<1.0.0,>=0.11.0->datasets) (3.10.1)\n",
      "Requirement already satisfied: urllib3<1.27,>=1.21.1 in /usr/local/anaconda3/envs/py39/lib/python3.9/site-packages (from requests>=2.19.0->datasets) (1.26.14)\n",
      "Requirement already satisfied: idna<4,>=2.5 in /usr/local/anaconda3/envs/py39/lib/python3.9/site-packages (from requests>=2.19.0->datasets) (3.4)\n",
      "Requirement already satisfied: certifi>=2017.4.17 in /usr/local/anaconda3/envs/py39/lib/python3.9/site-packages (from requests>=2.19.0->datasets) (2022.12.7)\n",
      "Requirement already satisfied: python-dateutil>=2.8.1 in /usr/local/anaconda3/envs/py39/lib/python3.9/site-packages (from pandas->datasets) (2.8.2)\n",
      "Requirement already satisfied: pytz>=2020.1 in /usr/local/anaconda3/envs/py39/lib/python3.9/site-packages (from pandas->datasets) (2022.7)\n",
      "Requirement already satisfied: six>=1.5 in /usr/local/anaconda3/envs/py39/lib/python3.9/site-packages (from python-dateutil>=2.8.1->pandas->datasets) (1.16.0)\n"
     ]
    }
   ],
   "source": [
    "!pip install datasets"
   ]
  },
  {
   "cell_type": "code",
   "execution_count": 2,
   "id": "4e5c9f51",
   "metadata": {},
   "outputs": [],
   "source": [
    "import pandas as pd"
   ]
  },
  {
   "cell_type": "code",
   "execution_count": 3,
   "id": "159696da",
   "metadata": {},
   "outputs": [
    {
     "name": "stderr",
     "output_type": "stream",
     "text": [
      "Found cached dataset parquet (/Users/rhoesada/.cache/huggingface/datasets/Olec___parquet/Olec--cyber-threat-intelligence_v2-fde4b2417f595bc9/0.0.0/2a3b91fbd88a2c90d1dbbb32b460cf621d31bd5b05b934492fdef7d8d6f236ec)\n"
     ]
    },
    {
     "data": {
      "application/vnd.jupyter.widget-view+json": {
       "model_id": "361d41e2d97e491eb026ff4a20494a9c",
       "version_major": 2,
       "version_minor": 0
      },
      "text/plain": [
       "  0%|          | 0/3 [00:00<?, ?it/s]"
      ]
     },
     "metadata": {},
     "output_type": "display_data"
    }
   ],
   "source": [
    "from datasets import load_dataset\n",
    "\n",
    "dataset = load_dataset(\"Olec/cyber-threat-intelligence_v2\")"
   ]
  },
  {
   "cell_type": "code",
   "execution_count": 4,
   "id": "5fa5c023",
   "metadata": {},
   "outputs": [
    {
     "data": {
      "text/plain": [
       "Dataset({\n",
       "    features: ['id', 'text', 'entities', 'relations'],\n",
       "    num_rows: 332\n",
       "})"
      ]
     },
     "execution_count": 4,
     "metadata": {},
     "output_type": "execute_result"
    }
   ],
   "source": [
    "train_dataset = dataset[\"train\"]\n",
    "train_dataset"
   ]
  },
  {
   "cell_type": "code",
   "execution_count": 5,
   "id": "fc51ca26",
   "metadata": {},
   "outputs": [
    {
     "data": {
      "text/plain": [
       "Dataset({\n",
       "    features: ['id', 'text', 'entities', 'relations'],\n",
       "    num_rows: 72\n",
       "})"
      ]
     },
     "execution_count": 5,
     "metadata": {},
     "output_type": "execute_result"
    }
   ],
   "source": [
    "test_dataset = dataset[\"test\"]\n",
    "test_dataset"
   ]
  },
  {
   "cell_type": "code",
   "execution_count": 6,
   "id": "5aa2c079",
   "metadata": {},
   "outputs": [
    {
     "data": {
      "text/plain": [
       "Dataset({\n",
       "    features: ['id', 'text', 'entities', 'relations'],\n",
       "    num_rows: 76\n",
       "})"
      ]
     },
     "execution_count": 6,
     "metadata": {},
     "output_type": "execute_result"
    }
   ],
   "source": [
    "valid_dataset = dataset[\"validation\"]\n",
    "valid_dataset"
   ]
  },
  {
   "cell_type": "code",
   "execution_count": 7,
   "id": "8d118646",
   "metadata": {},
   "outputs": [],
   "source": [
    "example1 = train_dataset\n",
    "example2 = test_dataset\n",
    "example3 = valid_dataset"
   ]
  },
  {
   "cell_type": "code",
   "execution_count": 8,
   "id": "178fd987",
   "metadata": {},
   "outputs": [],
   "source": [
    "df1 = pd.DataFrame(example1)\n",
    "df2 = pd.DataFrame(example2)\n",
    "df3 = pd.DataFrame(example3)"
   ]
  },
  {
   "cell_type": "code",
   "execution_count": 13,
   "id": "cc680dc5",
   "metadata": {},
   "outputs": [],
   "source": [
    "df_tmp = df1.copy()"
   ]
  },
  {
   "cell_type": "code",
   "execution_count": 14,
   "id": "9bcc371b",
   "metadata": {},
   "outputs": [
    {
     "data": {
      "text/plain": [
       "(332, 4)"
      ]
     },
     "execution_count": 14,
     "metadata": {},
     "output_type": "execute_result"
    }
   ],
   "source": [
    "df_tmp.shape"
   ]
  },
  {
   "cell_type": "code",
   "execution_count": 19,
   "id": "ac9d52ff",
   "metadata": {},
   "outputs": [
    {
     "name": "stderr",
     "output_type": "stream",
     "text": [
      "/var/folders/zw/l469q3gs3s582vs0g13mmmzr0000gq/T/ipykernel_91756/3852230020.py:1: FutureWarning: The frame.append method is deprecated and will be removed from pandas in a future version. Use pandas.concat instead.\n",
      "  df_tmp = df_tmp.append(df2)\n"
     ]
    }
   ],
   "source": [
    "df_tmp = df_tmp.append(df2)"
   ]
  },
  {
   "cell_type": "code",
   "execution_count": 20,
   "id": "e2f2bc71",
   "metadata": {},
   "outputs": [
    {
     "data": {
      "text/plain": [
       "(404, 4)"
      ]
     },
     "execution_count": 20,
     "metadata": {},
     "output_type": "execute_result"
    }
   ],
   "source": [
    "df_tmp.shape"
   ]
  },
  {
   "cell_type": "code",
   "execution_count": 21,
   "id": "e3872db3",
   "metadata": {},
   "outputs": [
    {
     "name": "stderr",
     "output_type": "stream",
     "text": [
      "/var/folders/zw/l469q3gs3s582vs0g13mmmzr0000gq/T/ipykernel_91756/3852230020.py:1: FutureWarning: The frame.append method is deprecated and will be removed from pandas in a future version. Use pandas.concat instead.\n",
      "  df_tmp = df_tmp.append(df2)\n"
     ]
    }
   ],
   "source": [
    "df_tmp = df_tmp.append(df2)"
   ]
  },
  {
   "cell_type": "code",
   "execution_count": 22,
   "id": "4551664d",
   "metadata": {},
   "outputs": [
    {
     "data": {
      "text/plain": [
       "(476, 4)"
      ]
     },
     "execution_count": 22,
     "metadata": {},
     "output_type": "execute_result"
    }
   ],
   "source": [
    "df_tmp.shape"
   ]
  },
  {
   "cell_type": "code",
   "execution_count": 23,
   "id": "ade926b1",
   "metadata": {},
   "outputs": [],
   "source": [
    "df_tmp.to_csv(\"out.csv\", index=False)"
   ]
  },
  {
   "cell_type": "code",
   "execution_count": null,
   "id": "1295f842",
   "metadata": {},
   "outputs": [],
   "source": []
  }
 ],
 "metadata": {
  "kernelspec": {
   "display_name": "Python [conda env:py39] *",
   "language": "python",
   "name": "conda-env-py39-py"
  },
  "language_info": {
   "codemirror_mode": {
    "name": "ipython",
    "version": 3
   },
   "file_extension": ".py",
   "mimetype": "text/x-python",
   "name": "python",
   "nbconvert_exporter": "python",
   "pygments_lexer": "ipython3",
   "version": "3.9.12"
  }
 },
 "nbformat": 4,
 "nbformat_minor": 5
}
